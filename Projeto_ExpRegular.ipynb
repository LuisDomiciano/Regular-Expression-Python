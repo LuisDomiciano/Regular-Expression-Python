{
 "cells": [
  {
   "cell_type": "code",
   "execution_count": null,
   "metadata": {},
   "outputs": [
    {
     "name": "stdout",
     "output_type": "stream",
     "text": [
      "====================================================================================================================\n",
      "\n",
      "                    ALGORITIMO DE VALIDAÇÃO DE DADOS UTILIZANDO EXPRESSÃO REGULAR \n",
      "\n",
      "Selecione uma opção: \n",
      " 1-Verificar se o CPF é válido\n",
      " 2-Verificar se o RG é válido.\n",
      " 3-Data de Nascimento\n",
      " 4-Sair\n",
      "1\n",
      "A quantidade de cpfs validos é:  198\n",
      "\n",
      "\n",
      "A quantidade de cpf inválidos é:  2\n"
     ]
    },
    {
     "data": {
      "image/png": "[encoded data removed]",
      "text/plain": [
       "<Figure size 432x288 with 1 Axes>"
      ]
     },
     "metadata": {},
     "output_type": "display_data"
    },
    {
     "name": "stdout",
     "output_type": "stream",
     "text": [
      "====================================================================================================================\n",
      "\n",
      "                    ALGORITIMO DE VALIDAÇÃO DE DADOS UTILIZANDO EXPRESSÃO REGULAR \n",
      "\n",
      "Selecione uma opção: \n",
      " 1-Verificar se o CPF é válido\n",
      " 2-Verificar se o RG é válido.\n",
      " 3-Data de Nascimento\n",
      " 4-Sair\n",
      "2\n",
      "156 44\n"
     ]
    },
    {
     "data": {
      "image/png": "[encoded data removed]",
      "text/plain": [
       "<Figure size 432x288 with 1 Axes>"
      ]
     },
     "metadata": {},
     "output_type": "display_data"
    },
    {
     "name": "stdout",
     "output_type": "stream",
     "text": [
      "====================================================================================================================\n",
      "\n",
      "                    ALGORITIMO DE VALIDAÇÃO DE DADOS UTILIZANDO EXPRESSÃO REGULAR \n",
      "\n",
      "Selecione uma opção: \n",
      " 1-Verificar se o CPF é válido\n",
      " 2-Verificar se o RG é válido.\n",
      " 3-Data de Nascimento\n",
      " 4-Sair\n",
      "3\n",
      "Datas válidas = 200 \n",
      "Datas inválidas = 0\n"
     ]
    },
    {
     "data": {
      "image/png": "[encoded data removed]",
      "text/plain": [
       "<Figure size 432x288 with 1 Axes>"
      ]
     },
     "metadata": {},
     "output_type": "display_data"
    },
    {
     "name": "stdout",
     "output_type": "stream",
     "text": [
      "====================================================================================================================\n",
      "\n",
      "                    ALGORITIMO DE VALIDAÇÃO DE DADOS UTILIZANDO EXPRESSÃO REGULAR \n",
      "\n",
      "Selecione uma opção: \n"
     ]
    }
   ],
   "source": [
    "#Projeto Expressão regular\n",
    "\n",
    "#2215108500 Luis Antonio Morais Domiciano\n",
    "#2211204504 Bruna Reis Calazans\n",
    "#2215113590 Lucas Barbosa de Lima\n",
    "\n",
    "import pandas as pd, re, matplotlib.pyplot as plt\n",
    "\n",
    "dados = pd.read_csv('pessoas.csv', header=0)\n",
    "\n",
    "def validaCpf(cpf):\n",
    "    if (re.search('^\\d{3}.\\d{3}.\\d{3}-\\d{2}$',str(cpf))):\n",
    "        return 1\n",
    "    else:\n",
    "        return 0\n",
    "\n",
    "def validaRg(rg):\n",
    "    if (re.search('^\\d{2}.\\d{3}.\\d{3}-\\d{1}$',str(rg))):\n",
    "        return 1\n",
    "    else:\n",
    "        return 0\n",
    "\n",
    "def formataRg(prg):\n",
    "    rgf = prg[0:2] + \".\" + prg[2:5] + \".\" + prg[5:8] + \"-\" + prg[8:9]\n",
    "    return rgf\n",
    "\n",
    "def validaDtNasc(nasc):\n",
    "    if (re.search('^(0[1-9]|[12][0-9]|3[01])/(0[1-9]|1[012])/[12][0-9]{3}$',str(nasc))):\n",
    "        return 1\n",
    "    else:\n",
    "        return 0\n",
    "\n",
    "def apresentaGrafico(x, y):\n",
    "        %matplotlib inline\n",
    "        val = [x, y]\n",
    "        rotulo = ['válido','inválido']\n",
    "        plt.pie(val, labels = rotulo, autopct = '%1.1f%%')\n",
    "        plt.title('Válidos x Inválidos')\n",
    "        plt.show()\n",
    "\n",
    "def menu():\n",
    "    print('====================================================================================================================')\n",
    "    print(\"\\n                    ALGORITIMO DE VALIDAÇÃO DE DADOS UTILIZANDO EXPRESSÃO REGULAR \\n\")\n",
    "    print(\"Selecione uma opção: \")\n",
    "    try:\n",
    "        caso= int (input(' 1-Verificar se o CPF é válido\\n 2-Verificar se o RG é válido.\\n 3-Data de Nascimento\\n 4-Sair\\n'))\n",
    "        return caso\n",
    "    except:\n",
    "        print ('Digite somente números')\n",
    "\n",
    "while True:\n",
    "        op = 0\n",
    "        op = menu()\n",
    "        if op == 1:\n",
    "            valido = invalido = 0\n",
    "\n",
    "            for item in dados['cpf']:\n",
    "                if (validaCpf(item)>0):\n",
    "                    valido = valido + 1\n",
    "                else:\n",
    "                    invalido = invalido + 1 \n",
    "\n",
    "            print('A quantidade de cpfs validos é: ',valido)\n",
    "            print('\\n')\n",
    "            print('A quantidade de cpf inválidos é: ',invalido)\n",
    "\n",
    "            apresentaGrafico(valido, invalido)\n",
    "\n",
    "        elif op == 2:\n",
    "\n",
    "            valido = invalido = 0\n",
    "\n",
    "            for item in dados['rg']: \n",
    "                if (validaRg(formataRg(str(item))) > 0):\n",
    "                    valido += 1\n",
    "                else:\n",
    "                    invalido += 1\n",
    "\n",
    "            print(valido, invalido)\n",
    "            apresentaGrafico(valido, invalido)\n",
    "\n",
    "        elif op == 3:\n",
    "                valido = invalido = 0\n",
    "                for d in dados['dtnasc']:\n",
    "\n",
    "                    if (validaDtNasc(d)>0):\n",
    "                        valido += 1\n",
    "                    else:\n",
    "                        invalido += 1\n",
    "\n",
    "                print('Datas válidas = {} \\nDatas inválidas = {}' .format(valido, invalido))\n",
    "                apresentaGrafico(valido, invalido)  \n",
    "        elif op == 4:\n",
    "            break\n",
    "        else:\n",
    "            print('Opção inválida!')"
   ]
  },
  {
   "cell_type": "code",
   "execution_count": null,
   "metadata": {},
   "outputs": [],
   "source": []
  }
 ],
 "metadata": {
  "kernelspec": {
   "display_name": "Python 3",
   "language": "python",
   "name": "python3"
  },
  "language_info": {
   "codemirror_mode": {
    "name": "ipython",
    "version": 3
   },
   "file_extension": ".py",
   "mimetype": "text/x-python",
   "name": "python",
   "nbconvert_exporter": "python",
   "pygments_lexer": "ipython3",
   "version": "3.6.5"
  }
 },
 "nbformat": 4,
 "nbformat_minor": 2
}
